{
 "cells": [
  {
   "cell_type": "markdown",
   "id": "e773e51f",
   "metadata": {},
   "source": [
    "# Analyse des ventes avec Pandas"
   ]
  },
  {
   "cell_type": "markdown",
   "id": "c12f072c",
   "metadata": {},
   "source": [
    "## Partie A : Exploration des donnees"
   ]
  },
  {
   "cell_type": "markdown",
   "id": "ef608ed7",
   "metadata": {},
   "source": [
    "### charger le fichier csv :"
   ]
  },
  {
   "cell_type": "code",
   "execution_count": 72,
   "id": "66b9b939",
   "metadata": {},
   "outputs": [
    {
     "name": "stdout",
     "output_type": "stream",
     "text": [
      "           Date     Produit     Catégorie  Quantité  PrixUnitaire    Magasin\n",
      "0    2022-04-13  Smartphone          Mode        10       1009.00       Lyon\n",
      "1    2023-03-12    Pantalon  Électronique         2        782.86      Paris\n",
      "2    2022-09-28    Pantalon          Mode        19       1159.62   Bordeaux\n",
      "3    2022-04-17     Fromage  Électronique         9        782.64   Bordeaux\n",
      "4    2022-03-13          TV          Mode         7       1279.01  Marseille\n",
      "..          ...         ...           ...       ...           ...        ...\n",
      "195  2023-04-17     T-shirt   Alimentaire        17       1122.68   Bordeaux\n",
      "196  2022-08-21  Chaussures   Alimentaire         8        756.57       Lyon\n",
      "197  2023-11-23      Laptop  Électronique         2        352.16       Lyon\n",
      "198  2022-04-23  Chaussures          Mode         8       1349.86   Bordeaux\n",
      "199  2023-05-12      Laptop  Électronique         7        578.92  Marseille\n",
      "\n",
      "[200 rows x 6 columns]\n"
     ]
    }
   ],
   "source": [
    "import pandas as pd\n",
    "\n",
    "def charger_csv(fichier):\n",
    "    return pd.read_csv(fichier)\n",
    "print(charger_csv('ventes.csv'))\n",
    "\n",
    "\n"
   ]
  },
  {
   "cell_type": "markdown",
   "id": "d98af952",
   "metadata": {},
   "source": [
    "### Afficher les 5 premieres lignes du dataset :"
   ]
  },
  {
   "cell_type": "code",
   "execution_count": 73,
   "id": "83b31e17",
   "metadata": {},
   "outputs": [
    {
     "name": "stdout",
     "output_type": "stream",
     "text": [
      "         Date     Produit     Catégorie  Quantité  PrixUnitaire    Magasin\n",
      "0  2022-04-13  Smartphone          Mode        10       1009.00       Lyon\n",
      "1  2023-03-12    Pantalon  Électronique         2        782.86      Paris\n",
      "2  2022-09-28    Pantalon          Mode        19       1159.62   Bordeaux\n",
      "3  2022-04-17     Fromage  Électronique         9        782.64   Bordeaux\n",
      "4  2022-03-13          TV          Mode         7       1279.01  Marseille\n"
     ]
    }
   ],
   "source": [
    "def afficher_5_lignes(fichier):\n",
    "    return pd.read_csv(fichier, nrows=5)\n",
    "\n",
    "print(afficher_5_lignes('ventes.csv'))"
   ]
  },
  {
   "cell_type": "markdown",
   "id": "2685ccf0",
   "metadata": {},
   "source": [
    "### afficher les infos et stats du dataset :"
   ]
  },
  {
   "cell_type": "code",
   "execution_count": 74,
   "id": "84456bd7",
   "metadata": {},
   "outputs": [
    {
     "name": "stdout",
     "output_type": "stream",
     "text": [
      "<class 'pandas.core.frame.DataFrame'>\n",
      "RangeIndex: 200 entries, 0 to 199\n",
      "Data columns (total 6 columns):\n",
      " #   Column        Non-Null Count  Dtype  \n",
      "---  ------        --------------  -----  \n",
      " 0   Date          200 non-null    object \n",
      " 1   Produit       200 non-null    object \n",
      " 2   Catégorie     200 non-null    object \n",
      " 3   Quantité      200 non-null    int64  \n",
      " 4   PrixUnitaire  200 non-null    float64\n",
      " 5   Magasin       200 non-null    object \n",
      "dtypes: float64(1), int64(1), object(4)\n",
      "memory usage: 9.5+ KB\n",
      "None\n",
      "         Quantité  PrixUnitaire\n",
      "count  200.000000    200.000000\n",
      "mean    10.155000    691.105900\n",
      "std      5.506595    412.396293\n",
      "min      1.000000     26.740000\n",
      "25%      5.000000    316.852500\n",
      "50%     10.000000    660.270000\n",
      "75%     15.000000   1011.815000\n",
      "max     19.000000   1484.990000\n"
     ]
    }
   ],
   "source": [
    "df = pd.read_csv('ventes.csv')\n",
    "print(df.info())\n",
    "print(df.describe())"
   ]
  },
  {
   "cell_type": "markdown",
   "id": "876bdfff",
   "metadata": {},
   "source": [
    "### identification du manque des valeurs :"
   ]
  },
  {
   "cell_type": "code",
   "execution_count": 75,
   "id": "e998827e",
   "metadata": {},
   "outputs": [
    {
     "name": "stdout",
     "output_type": "stream",
     "text": [
      "Il n y a pas de valeurs manquantes\n"
     ]
    }
   ],
   "source": [
    "def afficher_valeurs_manquantes(fichier):\n",
    "    df = pd.read_csv(fichier)\n",
    "    total_manquant = df.isnull().sum().sum()\n",
    "    if total_manquant> 0:\n",
    "        print(f'Il y a {total_manquant} valeurs manquantes')\n",
    "    else:\n",
    "        print('Il n y a pas de valeurs manquantes')\n",
    "\n",
    "afficher_valeurs_manquantes('ventes.csv')"
   ]
  },
  {
   "cell_type": "markdown",
   "id": "aab08a94",
   "metadata": {},
   "source": [
    "## Partie B : Nettoyage et preparation :"
   ]
  },
  {
   "cell_type": "markdown",
   "id": "55ee662c",
   "metadata": {},
   "source": [
    "### Convertir la colonne Date en type datetime : "
   ]
  },
  {
   "cell_type": "code",
   "execution_count": 76,
   "id": "f1decf48",
   "metadata": {},
   "outputs": [
    {
     "name": "stdout",
     "output_type": "stream",
     "text": [
      "<class 'pandas.core.frame.DataFrame'>\n",
      "RangeIndex: 200 entries, 0 to 199\n",
      "Data columns (total 6 columns):\n",
      " #   Column        Non-Null Count  Dtype         \n",
      "---  ------        --------------  -----         \n",
      " 0   Date          200 non-null    datetime64[ns]\n",
      " 1   Produit       200 non-null    object        \n",
      " 2   Catégorie     200 non-null    object        \n",
      " 3   Quantité      200 non-null    int64         \n",
      " 4   PrixUnitaire  200 non-null    float64       \n",
      " 5   Magasin       200 non-null    object        \n",
      "dtypes: datetime64[ns](1), float64(1), int64(1), object(3)\n",
      "memory usage: 9.5+ KB\n",
      "None\n",
      "          Date     Produit     Catégorie  Quantité  PrixUnitaire    Magasin\n",
      "0   2022-04-13  Smartphone          Mode        10       1009.00       Lyon\n",
      "1   2023-03-12    Pantalon  Électronique         2        782.86      Paris\n",
      "2   2022-09-28    Pantalon          Mode        19       1159.62   Bordeaux\n",
      "3   2022-04-17     Fromage  Électronique         9        782.64   Bordeaux\n",
      "4   2022-03-13          TV          Mode         7       1279.01  Marseille\n",
      "..         ...         ...           ...       ...           ...        ...\n",
      "195 2023-04-17     T-shirt   Alimentaire        17       1122.68   Bordeaux\n",
      "196 2022-08-21  Chaussures   Alimentaire         8        756.57       Lyon\n",
      "197 2023-11-23      Laptop  Électronique         2        352.16       Lyon\n",
      "198 2022-04-23  Chaussures          Mode         8       1349.86   Bordeaux\n",
      "199 2023-05-12      Laptop  Électronique         7        578.92  Marseille\n",
      "\n",
      "[200 rows x 6 columns]\n"
     ]
    }
   ],
   "source": [
    "def covertir_date(fichier):\n",
    "    df = pd.read_csv(fichier)\n",
    "    df['Date'] = pd.to_datetime(df['Date'])\n",
    "    print(df.info())\n",
    "    return df\n",
    "\n",
    "print(covertir_date('ventes.csv'))\n"
   ]
  },
  {
   "cell_type": "markdown",
   "id": "11030a96",
   "metadata": {},
   "source": [
    "### Creer nouvelle colonne ChiffreAffaire=Quantite*PrixUnitaire"
   ]
  },
  {
   "cell_type": "code",
   "execution_count": 77,
   "id": "5856b36d",
   "metadata": {},
   "outputs": [
    {
     "name": "stdout",
     "output_type": "stream",
     "text": [
      "         Date     Produit     Catégorie  Quantité  PrixUnitaire    Magasin  \\\n",
      "0  2022-04-13  Smartphone          Mode        10       1009.00       Lyon   \n",
      "1  2023-03-12    Pantalon  Électronique         2        782.86      Paris   \n",
      "2  2022-09-28    Pantalon          Mode        19       1159.62   Bordeaux   \n",
      "3  2022-04-17     Fromage  Électronique         9        782.64   Bordeaux   \n",
      "4  2022-03-13          TV          Mode         7       1279.01  Marseille   \n",
      "\n",
      "   ChiffreAffaire  \n",
      "0        10090.00  \n",
      "1         1565.72  \n",
      "2        22032.78  \n",
      "3         7043.76  \n",
      "4         8953.07  \n",
      "           Date     Produit     Catégorie  Quantité  PrixUnitaire    Magasin  \\\n",
      "0    2022-04-13  Smartphone          Mode        10       1009.00       Lyon   \n",
      "1    2023-03-12    Pantalon  Électronique         2        782.86      Paris   \n",
      "2    2022-09-28    Pantalon          Mode        19       1159.62   Bordeaux   \n",
      "3    2022-04-17     Fromage  Électronique         9        782.64   Bordeaux   \n",
      "4    2022-03-13          TV          Mode         7       1279.01  Marseille   \n",
      "..          ...         ...           ...       ...           ...        ...   \n",
      "195  2023-04-17     T-shirt   Alimentaire        17       1122.68   Bordeaux   \n",
      "196  2022-08-21  Chaussures   Alimentaire         8        756.57       Lyon   \n",
      "197  2023-11-23      Laptop  Électronique         2        352.16       Lyon   \n",
      "198  2022-04-23  Chaussures          Mode         8       1349.86   Bordeaux   \n",
      "199  2023-05-12      Laptop  Électronique         7        578.92  Marseille   \n",
      "\n",
      "     ChiffreAffaire  \n",
      "0          10090.00  \n",
      "1           1565.72  \n",
      "2          22032.78  \n",
      "3           7043.76  \n",
      "4           8953.07  \n",
      "..              ...  \n",
      "195        19085.56  \n",
      "196         6052.56  \n",
      "197          704.32  \n",
      "198        10798.88  \n",
      "199         4052.44  \n",
      "\n",
      "[200 rows x 7 columns]\n"
     ]
    }
   ],
   "source": [
    "def chiffre_affaire(fichier):\n",
    "    df = pd.read_csv(fichier)\n",
    "    df['ChiffreAffaire'] = df['Quantité'] * df['PrixUnitaire']\n",
    "    print(df.head())\n",
    "    return df \n",
    "\n",
    "print(chiffre_affaire('ventes.csv'))  "
   ]
  },
  {
   "cell_type": "markdown",
   "id": "c85042aa",
   "metadata": {},
   "source": [
    "### Verification des doublons et suppression :"
   ]
  },
  {
   "cell_type": "code",
   "execution_count": 78,
   "id": "645d6e45",
   "metadata": {},
   "outputs": [
    {
     "name": "stdout",
     "output_type": "stream",
     "text": [
      "Il n y a pas de doublons\n",
      "           Date     Produit     Catégorie  Quantité  PrixUnitaire    Magasin\n",
      "0    2022-04-13  Smartphone          Mode        10       1009.00       Lyon\n",
      "1    2023-03-12    Pantalon  Électronique         2        782.86      Paris\n",
      "2    2022-09-28    Pantalon          Mode        19       1159.62   Bordeaux\n",
      "3    2022-04-17     Fromage  Électronique         9        782.64   Bordeaux\n",
      "4    2022-03-13          TV          Mode         7       1279.01  Marseille\n",
      "..          ...         ...           ...       ...           ...        ...\n",
      "195  2023-04-17     T-shirt   Alimentaire        17       1122.68   Bordeaux\n",
      "196  2022-08-21  Chaussures   Alimentaire         8        756.57       Lyon\n",
      "197  2023-11-23      Laptop  Électronique         2        352.16       Lyon\n",
      "198  2022-04-23  Chaussures          Mode         8       1349.86   Bordeaux\n",
      "199  2023-05-12      Laptop  Électronique         7        578.92  Marseille\n",
      "\n",
      "[200 rows x 6 columns]\n"
     ]
    }
   ],
   "source": [
    "def verification_doublons(fichier):\n",
    "    df = pd.read_csv(fichier)\n",
    "    doublons = df.duplicated().sum()\n",
    "    if doublons > 0:\n",
    "        print(f'il y a {doublons} doublons')\n",
    "    else:\n",
    "        print('Il n y a pas de doublons')\n",
    "\n",
    "def suppression_doublons(fichier):\n",
    "    df = pd.read_csv(fichier)\n",
    "    df_sans_doublons = df.drop_duplicates()\n",
    "    return df_sans_doublons\n",
    "\n",
    "verification_doublons('ventes.csv')\n",
    "print(suppression_doublons('ventes.csv'))\n"
   ]
  },
  {
   "cell_type": "markdown",
   "id": "21d56b95",
   "metadata": {},
   "source": [
    "## Partie C : Analyses simples"
   ]
  },
  {
   "cell_type": "markdown",
   "id": "17e1f69a",
   "metadata": {},
   "source": [
    "### le produit le plus vendu en terme de quantite:"
   ]
  },
  {
   "cell_type": "code",
   "execution_count": 79,
   "id": "d891f458",
   "metadata": {},
   "outputs": [
    {
     "name": "stdout",
     "output_type": "stream",
     "text": [
      "Le produit le plus vendu en terme de quantite est : Chaussures 394 unités vendues\n",
      "Chaussures\n"
     ]
    }
   ],
   "source": [
    "def produit_plus_vendu(fichier):\n",
    "    df = pd.read_csv(fichier)\n",
    "    produit_plus_vendu=df.groupby('Produit')['Quantité'].sum().idxmax()\n",
    "    quantite=df.groupby('Produit')['Quantité'].sum().max()\n",
    "    \n",
    "    print(f'Le produit le plus vendu en terme de quantite est : {produit_plus_vendu} {quantite} unités vendues')\n",
    "    return produit_plus_vendu\n",
    "\n",
    "print(produit_plus_vendu('ventes.csv'))\n",
    "    "
   ]
  },
  {
   "cell_type": "markdown",
   "id": "243321d1",
   "metadata": {},
   "source": [
    "### Calcul chiffre d'affaire total par categorie :"
   ]
  },
  {
   "cell_type": "code",
   "execution_count": 80,
   "id": "cec18949",
   "metadata": {},
   "outputs": [
    {
     "name": "stdout",
     "output_type": "stream",
     "text": [
      "Catégorie\n",
      "Alimentaire     497699.75\n",
      "Mode            530772.33\n",
      "Électronique    399622.87\n",
      "Name: ChiffreAffaire, dtype: float64\n",
      "Catégorie\n",
      "Alimentaire     497699.75\n",
      "Mode            530772.33\n",
      "Électronique    399622.87\n",
      "Name: ChiffreAffaire, dtype: float64\n"
     ]
    }
   ],
   "source": [
    "def chiffre_affaire_par_categorie(fichier):\n",
    "    df = pd.read_csv(fichier)\n",
    "    df['ChiffreAffaire'] = df['Quantité'] * df['PrixUnitaire']\n",
    "    chiffre_affaire_categorie = df.groupby('Catégorie')['ChiffreAffaire'].sum()\n",
    "    print(chiffre_affaire_categorie)\n",
    "    return chiffre_affaire_categorie\n",
    "\n",
    "print(chiffre_affaire_par_categorie('ventes.csv'))"
   ]
  },
  {
   "cell_type": "markdown",
   "id": "9ea0a06b",
   "metadata": {},
   "source": [
    "### Chiffre d'affaire moyen par magasin :"
   ]
  },
  {
   "cell_type": "code",
   "execution_count": 81,
   "id": "aaab93f4",
   "metadata": {},
   "outputs": [
    {
     "name": "stdout",
     "output_type": "stream",
     "text": [
      "Magasin\n",
      "Bordeaux     7679.619783\n",
      "Lyon         7883.626458\n",
      "Marseille    6558.214364\n",
      "Paris        6582.678039\n",
      "Name: ChiffreAffaire, dtype: float64\n",
      "Magasin\n",
      "Bordeaux     7679.619783\n",
      "Lyon         7883.626458\n",
      "Marseille    6558.214364\n",
      "Paris        6582.678039\n",
      "Name: ChiffreAffaire, dtype: float64\n"
     ]
    }
   ],
   "source": [
    "def chiffre_affaire_moyen_par_magasin(fichier):\n",
    "    df = pd.read_csv(fichier)\n",
    "    df['ChiffreAffaire'] = df['Quantité'] * df['PrixUnitaire']\n",
    "    chiffre_affaire_moyen = df.groupby('Magasin')['ChiffreAffaire'].mean()\n",
    "    print(chiffre_affaire_moyen)\n",
    "    return chiffre_affaire_moyen\n",
    "\n",
    "\n",
    "print(chiffre_affaire_moyen_par_magasin('ventes.csv'))"
   ]
  },
  {
   "cell_type": "markdown",
   "id": "2e3a1e3e",
   "metadata": {},
   "source": [
    "### Nombre de ventes par mois :"
   ]
  },
  {
   "cell_type": "code",
   "execution_count": 82,
   "id": "b4d55229",
   "metadata": {},
   "outputs": [
    {
     "name": "stdout",
     "output_type": "stream",
     "text": [
      "Month\n",
      "1     23\n",
      "2     15\n",
      "3      9\n",
      "4     24\n",
      "5     17\n",
      "6      9\n",
      "7     23\n",
      "8     17\n",
      "9     12\n",
      "10    15\n",
      "11    17\n",
      "12    19\n",
      "Name: ChiffreAffaire, dtype: int64\n"
     ]
    },
    {
     "data": {
      "text/plain": [
       "Month\n",
       "1     23\n",
       "2     15\n",
       "3      9\n",
       "4     24\n",
       "5     17\n",
       "6      9\n",
       "7     23\n",
       "8     17\n",
       "9     12\n",
       "10    15\n",
       "11    17\n",
       "12    19\n",
       "Name: ChiffreAffaire, dtype: int64"
      ]
     },
     "execution_count": 82,
     "metadata": {},
     "output_type": "execute_result"
    }
   ],
   "source": [
    "def nombre_ventes_par_mois(fichier):\n",
    "    df=pd.read_csv(fichier)\n",
    "    df['ChiffreAffaire'] = df['Quantité'] * df['PrixUnitaire']\n",
    "    df['Date'] = pd.to_datetime(df['Date'])\n",
    "    df['Month'] = df['Date'].dt.month\n",
    "    nombre_ventes_par_mois=df.groupby('Month')['ChiffreAffaire'].count()\n",
    "    print(nombre_ventes_par_mois)\n",
    "    return nombre_ventes_par_mois\n",
    "\n",
    "nombre_ventes_par_mois('ventes.csv')\n",
    "    "
   ]
  },
  {
   "cell_type": "markdown",
   "id": "0ba11b2a",
   "metadata": {},
   "source": [
    "## Partie D : Analyses avancees :"
   ]
  },
  {
   "cell_type": "markdown",
   "id": "bd69214b",
   "metadata": {},
   "source": [
    "### identification des top 5 produits les plus rentables (en termes de CA) :"
   ]
  },
  {
   "cell_type": "code",
   "execution_count": 83,
   "id": "6802982b",
   "metadata": {},
   "outputs": [
    {
     "name": "stdout",
     "output_type": "stream",
     "text": [
      "            ChiffreAffaire\n",
      "Produit                   \n",
      "T-shirt        9007.640667\n",
      "Laptop         7809.220312\n",
      "Smartphone     7801.369412\n",
      "Pantalon       7159.327500\n",
      "Chaussures     6695.871316\n"
     ]
    }
   ],
   "source": [
    "def top_5_produit_rentable(fichier):\n",
    "    df=pd.read_csv(fichier)\n",
    "    df['ChiffreAffaire'] = df['Quantité'] * df['PrixUnitaire']\n",
    "    produit_rentable=pd.DataFrame(df.groupby('Produit')['ChiffreAffaire'].mean())\n",
    "    top5=produit_rentable.sort_values('ChiffreAffaire',ascending=False)[:5]\n",
    "    print(top5)\n",
    "\n",
    "top_5_produit_rentable('ventes.csv')"
   ]
  },
  {
   "cell_type": "markdown",
   "id": "237aa7ba",
   "metadata": {},
   "source": [
    "### Tablaeu croise CA par Categorie et par magasin :"
   ]
  },
  {
   "cell_type": "code",
   "execution_count": 84,
   "id": "4805779b",
   "metadata": {},
   "outputs": [
    {
     "name": "stdout",
     "output_type": "stream",
     "text": [
      "Catégorie  Alimentaire       Mode  Électronique\n",
      "Magasin                                        \n",
      "Bordeaux     153836.39  131471.49      67954.63\n",
      "Lyon         111030.44  126949.20     140434.43\n",
      "Marseille     94439.95  143151.48     123110.36\n",
      "Paris        138392.97  129200.16      68123.45\n"
     ]
    }
   ],
   "source": [
    "def tableau_croise(fichier):\n",
    "    df=pd.read_csv(fichier)\n",
    "    df['ChiffreAffaire'] = df['Quantité'] * df['PrixUnitaire']\n",
    "    tableau_croise=pd.pivot_table(df,values='ChiffreAffaire',index='Magasin',columns='Catégorie',aggfunc='sum',fill_value=0)\n",
    "    print(tableau_croise)\n",
    "\n",
    "tableau_croise('ventes.csv')"
   ]
  },
  {
   "cell_type": "markdown",
   "id": "c3b8aeaa",
   "metadata": {},
   "source": [
    "### Graph d evolution du CA par mois :"
   ]
  },
  {
   "cell_type": "code",
   "execution_count": 85,
   "id": "e02505b0",
   "metadata": {},
   "outputs": [
    {
     "data": {
      "image/png": "[encoded data removed]",
      "text/plain": [
       "<Figure size 640x480 with 1 Axes>"
      ]
     },
     "metadata": {},
     "output_type": "display_data"
    }
   ],
   "source": [
    "import matplotlib.pyplot as plt\n",
    "\n",
    "def evolution_ca_par_mois(fichier):\n",
    "    df=pd.read_csv(fichier)\n",
    "    df['ChiffreAffaire'] = df['Quantité'] * df['PrixUnitaire']\n",
    "    df['Date'] = pd.to_datetime(df['Date'])\n",
    "    df['Month'] = df['Date'].dt.month\n",
    "    ca_par_mois=df.groupby('Month')['ChiffreAffaire'].sum()\n",
    "    ca_par_mois.plot(kind='bar',title='Evolution du chiffre d affaire par mois')\n",
    "    plt.xlabel('Mois')\n",
    "    plt.ylabel('Chiffre d affaire')\n",
    "    plt.show()\n",
    "\n",
    "evolution_ca_par_mois('ventes.csv')"
   ]
  },
  {
   "cell_type": "markdown",
   "id": "2e404b0a",
   "metadata": {},
   "source": [
    "## Partie E : Analyses supplementaires :\n"
   ]
  },
  {
   "cell_type": "markdown",
   "id": "9c63769b",
   "metadata": {},
   "source": [
    "### identification du magasin avec le plus grand chiffres d'affaires cumule :"
   ]
  },
  {
   "cell_type": "code",
   "execution_count": 86,
   "id": "55a2cd37",
   "metadata": {},
   "outputs": [
    {
     "name": "stdout",
     "output_type": "stream",
     "text": [
      "Le magasin avec le plus grand chiffre d affaire est : Lyon avec un chiffre d affaire de 378414.07\n"
     ]
    }
   ],
   "source": [
    "def magasin_plus_grand_ca(fichier):\n",
    "    df=pd.read_csv(fichier)\n",
    "    df['ChiffreAffaire'] = df['Quantité'] * df['PrixUnitaire']\n",
    "    ca_par_magasin=df.groupby('Magasin')['ChiffreAffaire'].sum()\n",
    "    magasin_max=ca_par_magasin.idxmax()\n",
    "    ca_max=ca_par_magasin.max()\n",
    "    print(f'Le magasin avec le plus grand chiffre d affaire est : {magasin_max} avec un chiffre d affaire de {ca_max}')\n",
    "\n",
    "magasin_plus_grand_ca('ventes.csv')"
   ]
  },
  {
   "cell_type": "markdown",
   "id": "79685afc",
   "metadata": {},
   "source": [
    "### Mois ou les ventes ont ete plus fortes : "
   ]
  },
  {
   "cell_type": "code",
   "execution_count": 87,
   "id": "cf023484",
   "metadata": {},
   "outputs": [
    {
     "name": "stdout",
     "output_type": "stream",
     "text": [
      "Le mois ou les ventes ont ete les plus fortes est : 1 avec un nombre de ventes de 265\n"
     ]
    }
   ],
   "source": [
    "def mois_plus_ventes(fichier):\n",
    "    df=pd.read_csv(fichier)\n",
    "    df['Date'] = pd.to_datetime(df['Date'])\n",
    "    df['Month'] = df['Date'].dt.month\n",
    "    ca_par_mois=df.groupby('Month')['Quantité'].sum()\n",
    "    mois_max=ca_par_mois.idxmax()\n",
    "    ca_max=ca_par_mois.max()\n",
    "    print(f'Le mois ou les ventes ont ete les plus fortes est : {mois_max} avec un nombre de ventes de {ca_max}')\n",
    "\n",
    "mois_plus_ventes('ventes.csv')"
   ]
  },
  {
   "cell_type": "markdown",
   "id": "7c1a79ec",
   "metadata": {},
   "source": [
    "### Le prix unitaire moyen par produit :"
   ]
  },
  {
   "cell_type": "code",
   "execution_count": 88,
   "id": "040ebfd4",
   "metadata": {},
   "outputs": [
    {
     "name": "stdout",
     "output_type": "stream",
     "text": [
      "Produit\n",
      "Chaussures    639.017368\n",
      "Fromage       692.164800\n",
      "Laptop        698.736250\n",
      "Pain          600.907857\n",
      "Pantalon      630.053929\n",
      "Smartphone    765.570000\n",
      "T-shirt       813.896000\n",
      "TV            674.315625\n",
      "Name: PrixUnitaire, dtype: float64\n"
     ]
    }
   ],
   "source": [
    "def prix_moyen_par_produit(fichier):\n",
    "    df=pd.read_csv(fichier)\n",
    "    prix_moyen=df.groupby('Produit')['PrixUnitaire'].mean()\n",
    "    print(prix_moyen)\n",
    "\n",
    "prix_moyen_par_produit('ventes.csv')"
   ]
  },
  {
   "cell_type": "markdown",
   "id": "ca1419b3",
   "metadata": {},
   "source": [
    "### Top 3 des categories qui generent plus de ventes en volume (quantite) : "
   ]
  },
  {
   "cell_type": "code",
   "execution_count": 89,
   "id": "004ed156",
   "metadata": {},
   "outputs": [
    {
     "name": "stdout",
     "output_type": "stream",
     "text": [
      "Catégorie\n",
      "Mode            751\n",
      "Alimentaire     666\n",
      "Électronique    614\n",
      "Name: Quantité, dtype: int64\n"
     ]
    }
   ],
   "source": [
    "def top3_categories_plus_ventes(fichier):\n",
    "    df=pd.read_csv(fichier)\n",
    "    ca_par_categorie=df.groupby('Catégorie')['Quantité'].sum()\n",
    "    top3=ca_par_categorie.sort_values(ascending=False)[:3]\n",
    "    print(top3)\n",
    "\n",
    "top3_categories_plus_ventes('ventes.csv')"
   ]
  },
  {
   "cell_type": "markdown",
   "id": "ef8bf511",
   "metadata": {},
   "source": [
    "### Analyse de repartition des ventes par jour de la semaine (CA total) :"
   ]
  },
  {
   "cell_type": "code",
   "execution_count": 90,
   "id": "58954d5d",
   "metadata": {},
   "outputs": [
    {
     "name": "stdout",
     "output_type": "stream",
     "text": [
      "jours\n",
      "Friday       206567.29\n",
      "Monday       196628.40\n",
      "Saturday     299074.28\n",
      "Sunday       181840.76\n",
      "Thursday     187072.36\n",
      "Tuesday      122919.38\n",
      "Wednesday    233992.48\n",
      "Name: ChiffreAffaire, dtype: float64\n"
     ]
    }
   ],
   "source": [
    "def ventes_par_jour_semaine(fichier):\n",
    "    df=pd.read_csv(fichier)\n",
    "    df['ChiffreAffaire'] = df['Quantité'] * df['PrixUnitaire']\n",
    "    df['Date'] = pd.to_datetime(df['Date'])\n",
    "    df['jours'] = df['Date'].dt.day_name()\n",
    "    repartition_ventes=df.groupby('jours')['ChiffreAffaire'].sum()\n",
    "    print(repartition_ventes)\n",
    "\n",
    "ventes_par_jour_semaine('ventes.csv')"
   ]
  },
  {
   "cell_type": "markdown",
   "id": "dfc9ec53",
   "metadata": {},
   "source": [
    "### Histogramme de repartition des quantites vendues :"
   ]
  },
  {
   "cell_type": "code",
   "execution_count": 91,
   "id": "3dc9aa13",
   "metadata": {},
   "outputs": [
    {
     "data": {
      "image/png": "[encoded data removed]",
      "text/plain": [
       "<Figure size 640x480 with 1 Axes>"
      ]
     },
     "metadata": {},
     "output_type": "display_data"
    }
   ],
   "source": [
    "def histogramme_quantites_vendues(fichier):\n",
    "    df=pd.read_csv(fichier)\n",
    "    df['Quantité'].plot(kind='hist',histtype='stepfilled',color='r',title='Histogramme de repartition des quantites vendues')\n",
    "    plt.xlabel('Quantité vendue')\n",
    "    plt.ylabel('Fréquence')\n",
    "    plt.show()\n",
    "\n",
    "histogramme_quantites_vendues('ventes.csv')"
   ]
  },
  {
   "cell_type": "markdown",
   "id": "084ec0c5",
   "metadata": {},
   "source": [
    "# Traitement et modélisation avec Scikit-Learn"
   ]
  },
  {
   "cell_type": "markdown",
   "id": "4f98d2ac",
   "metadata": {},
   "source": [
    "## Partie F : Préparation des données "
   ]
  },
  {
   "cell_type": "markdown",
   "id": "e89f532c",
   "metadata": {},
   "source": [
    "### selection des colonnes pour la modelisation :"
   ]
  },
  {
   "cell_type": "code",
   "execution_count": 92,
   "id": "28a68773",
   "metadata": {},
   "outputs": [
    {
     "data": {
      "text/html": [
       "<div>\n",
       "<style scoped>\n",
       "    .dataframe tbody tr th:only-of-type {\n",
       "        vertical-align: middle;\n",
       "    }\n",
       "\n",
       "    .dataframe tbody tr th {\n",
       "        vertical-align: top;\n",
       "    }\n",
       "\n",
       "    .dataframe thead th {\n",
       "        text-align: right;\n",
       "    }\n",
       "</style>\n",
       "<table border=\"1\" class=\"dataframe\">\n",
       "  <thead>\n",
       "    <tr style=\"text-align: right;\">\n",
       "      <th></th>\n",
       "      <th>Date</th>\n",
       "      <th>Produit</th>\n",
       "      <th>Catégorie</th>\n",
       "      <th>Quantité</th>\n",
       "      <th>PrixUnitaire</th>\n",
       "      <th>Magasin</th>\n",
       "    </tr>\n",
       "  </thead>\n",
       "  <tbody>\n",
       "    <tr>\n",
       "      <th>0</th>\n",
       "      <td>2022-04-13</td>\n",
       "      <td>Smartphone</td>\n",
       "      <td>1</td>\n",
       "      <td>10</td>\n",
       "      <td>1009.00</td>\n",
       "      <td>1</td>\n",
       "    </tr>\n",
       "    <tr>\n",
       "      <th>1</th>\n",
       "      <td>2023-03-12</td>\n",
       "      <td>Pantalon</td>\n",
       "      <td>2</td>\n",
       "      <td>2</td>\n",
       "      <td>782.86</td>\n",
       "      <td>3</td>\n",
       "    </tr>\n",
       "    <tr>\n",
       "      <th>2</th>\n",
       "      <td>2022-09-28</td>\n",
       "      <td>Pantalon</td>\n",
       "      <td>1</td>\n",
       "      <td>19</td>\n",
       "      <td>1159.62</td>\n",
       "      <td>0</td>\n",
       "    </tr>\n",
       "    <tr>\n",
       "      <th>3</th>\n",
       "      <td>2022-04-17</td>\n",
       "      <td>Fromage</td>\n",
       "      <td>2</td>\n",
       "      <td>9</td>\n",
       "      <td>782.64</td>\n",
       "      <td>0</td>\n",
       "    </tr>\n",
       "    <tr>\n",
       "      <th>4</th>\n",
       "      <td>2022-03-13</td>\n",
       "      <td>TV</td>\n",
       "      <td>1</td>\n",
       "      <td>7</td>\n",
       "      <td>1279.01</td>\n",
       "      <td>2</td>\n",
       "    </tr>\n",
       "    <tr>\n",
       "      <th>...</th>\n",
       "      <td>...</td>\n",
       "      <td>...</td>\n",
       "      <td>...</td>\n",
       "      <td>...</td>\n",
       "      <td>...</td>\n",
       "      <td>...</td>\n",
       "    </tr>\n",
       "    <tr>\n",
       "      <th>195</th>\n",
       "      <td>2023-04-17</td>\n",
       "      <td>T-shirt</td>\n",
       "      <td>0</td>\n",
       "      <td>17</td>\n",
       "      <td>1122.68</td>\n",
       "      <td>0</td>\n",
       "    </tr>\n",
       "    <tr>\n",
       "      <th>196</th>\n",
       "      <td>2022-08-21</td>\n",
       "      <td>Chaussures</td>\n",
       "      <td>0</td>\n",
       "      <td>8</td>\n",
       "      <td>756.57</td>\n",
       "      <td>1</td>\n",
       "    </tr>\n",
       "    <tr>\n",
       "      <th>197</th>\n",
       "      <td>2023-11-23</td>\n",
       "      <td>Laptop</td>\n",
       "      <td>2</td>\n",
       "      <td>2</td>\n",
       "      <td>352.16</td>\n",
       "      <td>1</td>\n",
       "    </tr>\n",
       "    <tr>\n",
       "      <th>198</th>\n",
       "      <td>2022-04-23</td>\n",
       "      <td>Chaussures</td>\n",
       "      <td>1</td>\n",
       "      <td>8</td>\n",
       "      <td>1349.86</td>\n",
       "      <td>0</td>\n",
       "    </tr>\n",
       "    <tr>\n",
       "      <th>199</th>\n",
       "      <td>2023-05-12</td>\n",
       "      <td>Laptop</td>\n",
       "      <td>2</td>\n",
       "      <td>7</td>\n",
       "      <td>578.92</td>\n",
       "      <td>2</td>\n",
       "    </tr>\n",
       "  </tbody>\n",
       "</table>\n",
       "<p>200 rows × 6 columns</p>\n",
       "</div>"
      ],
      "text/plain": [
       "           Date     Produit  Catégorie  Quantité  PrixUnitaire  Magasin\n",
       "0    2022-04-13  Smartphone          1        10       1009.00        1\n",
       "1    2023-03-12    Pantalon          2         2        782.86        3\n",
       "2    2022-09-28    Pantalon          1        19       1159.62        0\n",
       "3    2022-04-17     Fromage          2         9        782.64        0\n",
       "4    2022-03-13          TV          1         7       1279.01        2\n",
       "..          ...         ...        ...       ...           ...      ...\n",
       "195  2023-04-17     T-shirt          0        17       1122.68        0\n",
       "196  2022-08-21  Chaussures          0         8        756.57        1\n",
       "197  2023-11-23      Laptop          2         2        352.16        1\n",
       "198  2022-04-23  Chaussures          1         8       1349.86        0\n",
       "199  2023-05-12      Laptop          2         7        578.92        2\n",
       "\n",
       "[200 rows x 6 columns]"
      ]
     },
     "execution_count": 92,
     "metadata": {},
     "output_type": "execute_result"
    }
   ],
   "source": [
    "from sklearn.preprocessing import LabelEncoder\n",
    "\n",
    "def scaler_donnees(fichier):\n",
    "    df=pd.read_csv(fichier)\n",
    "    for col in ['Catégorie', 'Magasin']:\n",
    "        encoder = LabelEncoder()\n",
    "        df[col] = encoder.fit_transform(df[col])\n",
    "    return(df)\n",
    "\n",
    "scaler_donnees('ventes.csv')\n",
    "\n"
   ]
  },
  {
   "cell_type": "markdown",
   "id": "8e30cb0d",
   "metadata": {},
   "source": [
    "### Séparer les données en X (features) et y (target) :"
   ]
  },
  {
   "cell_type": "code",
   "execution_count": 93,
   "id": "a51c428a",
   "metadata": {},
   "outputs": [
    {
     "name": "stdout",
     "output_type": "stream",
     "text": [
      "   Catégorie  Magasin  Quantité  PrixUnitaire\n",
      "0          1        1        10       1009.00\n",
      "1          2        3         2        782.86\n",
      "2          1        0        19       1159.62\n",
      "3          2        0         9        782.64\n",
      "4          1        2         7       1279.01\n",
      "0    10090.00\n",
      "1     1565.72\n",
      "2    22032.78\n",
      "3     7043.76\n",
      "4     8953.07\n",
      "Name: ChiffreAffaire, dtype: float64\n"
     ]
    }
   ],
   "source": [
    "def separation_donnees(fichier):\n",
    "    df = pd.read_csv(fichier)\n",
    "    df['ChiffreAffaire'] = df['Quantité'] * df['PrixUnitaire']\n",
    "    \n",
    "    for col in ['Catégorie', 'Magasin']:\n",
    "        encoder = LabelEncoder()\n",
    "        df[col] = encoder.fit_transform(df[col])\n",
    "    \n",
    "    X = df[['Catégorie', 'Magasin', 'Quantité', 'PrixUnitaire']]\n",
    "    y = df['ChiffreAffaire']\n",
    "    return X, y\n",
    "\n",
    "X, y = separation_donnees('ventes.csv')\n",
    "print(X.head())\n",
    "print(y.head())\n"
   ]
  },
  {
   "cell_type": "markdown",
   "id": "748f0051",
   "metadata": {},
   "source": [
    "### Découpage du  dataset en jeu d’entraînement et jeu de test (train_test_split) :"
   ]
  },
  {
   "cell_type": "code",
   "execution_count": 96,
   "id": "98946d72",
   "metadata": {},
   "outputs": [
    {
     "name": "stdout",
     "output_type": "stream",
     "text": [
      "X_train shape: (160, 4)\n",
      "X_test shape: (40, 4)\n",
      "y_train shape: (160,)\n",
      "y_test shape: (40,)\n"
     ]
    },
    {
     "data": {
      "text/plain": [
       "(     Catégorie  Magasin  Quantité  PrixUnitaire\n",
       " 79           1        1         8        696.49\n",
       " 197          2        1         2        352.16\n",
       " 38           1        1        12        364.02\n",
       " 24           0        0        17       1176.56\n",
       " 122          2        2        17        431.22\n",
       " ..         ...      ...       ...           ...\n",
       " 106          2        0         1       1119.43\n",
       " 14           2        0         3        323.38\n",
       " 92           0        3        10        569.04\n",
       " 179          0        3         3        213.96\n",
       " 102          0        0         1        750.17\n",
       " \n",
       " [160 rows x 4 columns],\n",
       "      Catégorie  Magasin  Quantité  PrixUnitaire\n",
       " 95           2        0         3        321.11\n",
       " 15           0        0        17        208.88\n",
       " 30           0        3        16       1390.25\n",
       " 158          1        1        13       1484.99\n",
       " 128          0        1        11       1473.66\n",
       " 115          1        2         5        910.63\n",
       " 69           2        1        13         96.31\n",
       " 170          0        2         9       1447.72\n",
       " 174          1        2         6        275.94\n",
       " 45           2        3         5        276.91\n",
       " 66           0        2         6        127.23\n",
       " 182          0        2        10        249.67\n",
       " 165          0        0        11        710.01\n",
       " 78           2        1        19        556.53\n",
       " 186          0        0        14        786.98\n",
       " 177          2        3         5        863.84\n",
       " 56           2        3         3        137.61\n",
       " 152          2        2        19        724.30\n",
       " 82           1        2         1        382.39\n",
       " 68           0        0        14       1381.70\n",
       " 124          2        1        15       1345.66\n",
       " 16           2        2         3         26.74\n",
       " 148          1        3        14        917.88\n",
       " 93           0        3        19         35.01\n",
       " 65           0        2        17        943.71\n",
       " 60           0        0        15        549.58\n",
       " 84           2        1         7       1343.33\n",
       " 67           1        0         7       1311.00\n",
       " 125          2        3         1        124.95\n",
       " 132          0        3         8       1298.93\n",
       " 9            2        2         4        205.35\n",
       " 18           0        3         4        886.93\n",
       " 55           2        0         5        269.63\n",
       " 75           1        1         5        558.86\n",
       " 150          2        3         6        873.95\n",
       " 104          0        0        13        807.97\n",
       " 135          0        1         8        260.48\n",
       " 137          1        2         8       1394.42\n",
       " 164          1        3        17        895.48\n",
       " 76           1        1         5        729.36,\n",
       " 79      5571.92\n",
       " 197      704.32\n",
       " 38      4368.24\n",
       " 24     20001.52\n",
       " 122     7330.74\n",
       "          ...   \n",
       " 106     1119.43\n",
       " 14       970.14\n",
       " 92      5690.40\n",
       " 179      641.88\n",
       " 102      750.17\n",
       " Name: ChiffreAffaire, Length: 160, dtype: float64,\n",
       " 95       963.33\n",
       " 15      3550.96\n",
       " 30     22244.00\n",
       " 158    19304.87\n",
       " 128    16210.26\n",
       " 115     4553.15\n",
       " 69      1252.03\n",
       " 170    13029.48\n",
       " 174     1655.64\n",
       " 45      1384.55\n",
       " 66       763.38\n",
       " 182     2496.70\n",
       " 165     7810.11\n",
       " 78     10574.07\n",
       " 186    11017.72\n",
       " 177     4319.20\n",
       " 56       412.83\n",
       " 152    13761.70\n",
       " 82       382.39\n",
       " 68     19343.80\n",
       " 124    20184.90\n",
       " 16        80.22\n",
       " 148    12850.32\n",
       " 93       665.19\n",
       " 65     16043.07\n",
       " 60      8243.70\n",
       " 84      9403.31\n",
       " 67      9177.00\n",
       " 125      124.95\n",
       " 132    10391.44\n",
       " 9        821.40\n",
       " 18      3547.72\n",
       " 55      1348.15\n",
       " 75      2794.30\n",
       " 150     5243.70\n",
       " 104    10503.61\n",
       " 135     2083.84\n",
       " 137    11155.36\n",
       " 164    15223.16\n",
       " 76      3646.80\n",
       " Name: ChiffreAffaire, dtype: float64)"
      ]
     },
     "execution_count": 96,
     "metadata": {},
     "output_type": "execute_result"
    }
   ],
   "source": [
    "from sklearn.model_selection import train_test_split\n",
    "def decoupage_train_test(fichier): \n",
    "    df = pd.read_csv(fichier)\n",
    "    df['ChiffreAffaire'] = df['Quantité'] * df['PrixUnitaire']\n",
    "\n",
    "    for col in ['Catégorie', 'Magasin']:\n",
    "        encoder = LabelEncoder()\n",
    "        df[col] = encoder.fit_transform(df[col])\n",
    "\n",
    "    X = df[[ 'Catégorie', 'Magasin', 'Quantité', 'PrixUnitaire']]\n",
    "    y = df['ChiffreAffaire']\n",
    "    X_train, X_test, y_train, y_test = train_test_split(X, y, test_size=0.2, random_state=42)\n",
    "    return X_train, X_test, y_train, y_test\n",
    "\n",
    "def decoupage_game_test(fichier): \n",
    "    X_train, X_test, y_train, y_test = decoupage_train_test(fichier)\n",
    "    print(\"X_train shape:\", X_train.shape)\n",
    "    print(\"X_test shape:\", X_test.shape)\n",
    "    print(\"y_train shape:\", y_train.shape)\n",
    "    print(\"y_test shape:\", y_test.shape)\n",
    "    return X_train, X_test, y_train, y_test\n",
    "decoupage_train_test('ventes.csv')\n",
    "decoupage_game_test('ventes.csv')"
   ]
  },
  {
   "cell_type": "markdown",
   "id": "153bf895",
   "metadata": {},
   "source": [
    "# Partie G : Régression (prédiction du Chiffre d’Affaires)"
   ]
  },
  {
   "cell_type": "markdown",
   "id": "193d781e",
   "metadata": {},
   "source": [
    "### Entrainement d un model de regression lineaire pour predire CA a partir de quantite , pu , cat ,magasin :"
   ]
  },
  {
   "cell_type": "code",
   "execution_count": 98,
   "id": "5d6c75b7",
   "metadata": {},
   "outputs": [
    {
     "name": "stdout",
     "output_type": "stream",
     "text": [
      "score: 0.8667253532954468\n",
      "score: 0.8667253532954468\n"
     ]
    },
    {
     "data": {
      "image/png": "[encoded data removed]",
      "text/plain": [
       "<Figure size 640x480 with 1 Axes>"
      ]
     },
     "metadata": {},
     "output_type": "display_data"
    }
   ],
   "source": [
    "from sklearn.model_selection import train_test_split\n",
    "from sklearn.linear_model import LinearRegression\n",
    "def decoupage_train_test(fichier): \n",
    "    df = pd.read_csv(fichier)\n",
    "    df['ChiffreAffaire'] = df['Quantité'] * df['PrixUnitaire']\n",
    "\n",
    "    for col in ['Catégorie', 'Magasin']:\n",
    "        encoder = LabelEncoder()\n",
    "        df[col] = encoder.fit_transform(df[col])\n",
    "\n",
    "    X = df[[ 'Catégorie', 'Magasin', 'Quantité', 'PrixUnitaire']]\n",
    "    y = df['ChiffreAffaire']\n",
    "    X_train, X_test, y_train, y_test = train_test_split(X, y, test_size=0.2, random_state=42)\n",
    "    return X_train, X_test, y_train, y_test\n",
    "\n",
    "def train_regression_model(fichier):\n",
    "    X_train, X_test, y_train, y_test = decoupage_train_test(fichier)\n",
    "    model = LinearRegression()\n",
    "    model.fit(X_train, y_train)\n",
    "    score = model.score(X_test, y_test)\n",
    "    print (f'score: {score}')\n",
    "    return model\n",
    "\n",
    "def graph_model_performance(fichier):\n",
    "    X_train, X_test, y_train, y_test = decoupage_train_test(fichier)\n",
    "    model = train_regression_model(fichier)\n",
    "    y_pred = model.predict(X_test)\n",
    "    \n",
    "    plt.scatter(y_test, y_pred)\n",
    "    plt.xlabel('Valeurs Réelles')\n",
    "    plt.ylabel('Valeurs Prédites')\n",
    "    plt.title('Performance du Modèle de Régression Linéaire')\n",
    "    plt.plot([y_test.min(), y_test.max()], [y_test.min(), y_test.max()], 'k--', lw=2)\n",
    "    plt.show()\n",
    "\n",
    "\n",
    "train_regression_model('ventes.csv')\n",
    "graph_model_performance('ventes.csv')\n"
   ]
  }
 ],
 "metadata": {
  "kernelspec": {
   "display_name": "pandas_exercice (3.13.7)",
   "language": "python",
   "name": "python3"
  },
  "language_info": {
   "codemirror_mode": {
    "name": "ipython",
    "version": 3
   },
   "file_extension": ".py",
   "mimetype": "text/x-python",
   "name": "python",
   "nbconvert_exporter": "python",
   "pygments_lexer": "ipython3",
   "version": "3.13.7"
  }
 },
 "nbformat": 4,
 "nbformat_minor": 5
}
